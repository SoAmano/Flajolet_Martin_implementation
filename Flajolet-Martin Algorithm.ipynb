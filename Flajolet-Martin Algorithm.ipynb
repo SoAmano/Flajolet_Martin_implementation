{
 "cells": [
  {
   "cell_type": "markdown",
   "id": "48b99ef6",
   "metadata": {},
   "source": [
    "# Flajolet-Martin Algorithm\n",
    "## Introduction\n",
    "The Flajolet-Martin algorithm is a streaming algorithm that counts the number of distinct elements from an incoming stream. The following function implements finding the \"bins\" the algorithm uses through counting the number of trailing zeros from the binary representation of a given input."
   ]
  },
  {
   "cell_type": "code",
   "execution_count": 34,
   "id": "f023d5b1",
   "metadata": {},
   "outputs": [],
   "source": [
    "from IPython.display import display, Math\n",
    "def get_trailing_zeros(data):\n",
    "    if data < 0:\n",
    "        data *= -1\n",
    "    binary = bin(data)\n",
    "    count = 0\n",
    "    binary = binary[::-1] #reverse\n",
    "    for i in range(len(binary)):\n",
    "        if(binary[i] == '0'):\n",
    "            count += 1 #Count number of zeros\n",
    "        else:\n",
    "            return count\n",
    "    return count"
   ]
  },
  {
   "cell_type": "markdown",
   "id": "339f8b74",
   "metadata": {},
   "source": [
    "## Flajolet Martin\n",
    "The implementation below takes in any hash function $h$, and the \"**kwargs\" is any extra variable the $h$ uses. In the cell below, we use the mmh3 function to and take in the seed as an argument."
   ]
  },
  {
   "cell_type": "code",
   "execution_count": 6,
   "id": "fd9520b2",
   "metadata": {},
   "outputs": [],
   "source": [
    "# h is the hash function\n",
    "# kwargs is arguments for the hash function\n",
    "def Flajolet_Martin(h, data, **kwargs):\n",
    "    curr = 0\n",
    "    with open(data,'r') as file:\n",
    "        for line in file:  \n",
    "            for word in line.split(): # For each word in file\n",
    "                hashed = h(word, **kwargs) # Hash\n",
    "                zeros = get_trailing_zeros(hashed)\n",
    "                if zeros > curr:\n",
    "                    curr = zeros # If bin is larger than current bin, that is the max\n",
    "    return 2**curr # Return estimate"
   ]
  },
  {
   "cell_type": "markdown",
   "id": "59a60918",
   "metadata": {},
   "source": [
    "Below we get 20 different trials to get an idea of what the estimate looks like. Notice that the range of values is large because the estimate is a power of 2. Therefore, the smallest \"unit\" of difference between the estimate is precisely by products of 2."
   ]
  },
  {
   "cell_type": "code",
   "execution_count": 44,
   "id": "b21bdc94",
   "metadata": {},
   "outputs": [
    {
     "data": {
      "text/latex": [
       "$\\displaystyle 524288$"
      ],
      "text/plain": [
       "<IPython.core.display.Math object>"
      ]
     },
     "metadata": {},
     "output_type": "display_data"
    },
    {
     "data": {
      "text/latex": [
       "$\\displaystyle 32768$"
      ],
      "text/plain": [
       "<IPython.core.display.Math object>"
      ]
     },
     "metadata": {},
     "output_type": "display_data"
    },
    {
     "data": {
      "text/latex": [
       "$\\displaystyle 8192$"
      ],
      "text/plain": [
       "<IPython.core.display.Math object>"
      ]
     },
     "metadata": {},
     "output_type": "display_data"
    },
    {
     "data": {
      "text/latex": [
       "$\\displaystyle 524288$"
      ],
      "text/plain": [
       "<IPython.core.display.Math object>"
      ]
     },
     "metadata": {},
     "output_type": "display_data"
    },
    {
     "data": {
      "text/latex": [
       "$\\displaystyle 524288$"
      ],
      "text/plain": [
       "<IPython.core.display.Math object>"
      ]
     },
     "metadata": {},
     "output_type": "display_data"
    },
    {
     "data": {
      "text/latex": [
       "$\\displaystyle 32768$"
      ],
      "text/plain": [
       "<IPython.core.display.Math object>"
      ]
     },
     "metadata": {},
     "output_type": "display_data"
    },
    {
     "data": {
      "text/latex": [
       "$\\displaystyle 32768$"
      ],
      "text/plain": [
       "<IPython.core.display.Math object>"
      ]
     },
     "metadata": {},
     "output_type": "display_data"
    },
    {
     "data": {
      "text/latex": [
       "$\\displaystyle 131072$"
      ],
      "text/plain": [
       "<IPython.core.display.Math object>"
      ]
     },
     "metadata": {},
     "output_type": "display_data"
    },
    {
     "data": {
      "text/latex": [
       "$\\displaystyle 524288$"
      ],
      "text/plain": [
       "<IPython.core.display.Math object>"
      ]
     },
     "metadata": {},
     "output_type": "display_data"
    },
    {
     "data": {
      "text/latex": [
       "$\\displaystyle 131072$"
      ],
      "text/plain": [
       "<IPython.core.display.Math object>"
      ]
     },
     "metadata": {},
     "output_type": "display_data"
    },
    {
     "data": {
      "text/latex": [
       "$\\displaystyle 65536$"
      ],
      "text/plain": [
       "<IPython.core.display.Math object>"
      ]
     },
     "metadata": {},
     "output_type": "display_data"
    },
    {
     "data": {
      "text/latex": [
       "$\\displaystyle 65536$"
      ],
      "text/plain": [
       "<IPython.core.display.Math object>"
      ]
     },
     "metadata": {},
     "output_type": "display_data"
    },
    {
     "data": {
      "text/latex": [
       "$\\displaystyle 65536$"
      ],
      "text/plain": [
       "<IPython.core.display.Math object>"
      ]
     },
     "metadata": {},
     "output_type": "display_data"
    },
    {
     "data": {
      "text/latex": [
       "$\\displaystyle 65536$"
      ],
      "text/plain": [
       "<IPython.core.display.Math object>"
      ]
     },
     "metadata": {},
     "output_type": "display_data"
    },
    {
     "data": {
      "text/latex": [
       "$\\displaystyle 524288$"
      ],
      "text/plain": [
       "<IPython.core.display.Math object>"
      ]
     },
     "metadata": {},
     "output_type": "display_data"
    },
    {
     "data": {
      "text/latex": [
       "$\\displaystyle 65536$"
      ],
      "text/plain": [
       "<IPython.core.display.Math object>"
      ]
     },
     "metadata": {},
     "output_type": "display_data"
    },
    {
     "data": {
      "text/latex": [
       "$\\displaystyle 32768$"
      ],
      "text/plain": [
       "<IPython.core.display.Math object>"
      ]
     },
     "metadata": {},
     "output_type": "display_data"
    },
    {
     "data": {
      "text/latex": [
       "$\\displaystyle 131072$"
      ],
      "text/plain": [
       "<IPython.core.display.Math object>"
      ]
     },
     "metadata": {},
     "output_type": "display_data"
    },
    {
     "data": {
      "text/latex": [
       "$\\displaystyle 16384$"
      ],
      "text/plain": [
       "<IPython.core.display.Math object>"
      ]
     },
     "metadata": {},
     "output_type": "display_data"
    },
    {
     "data": {
      "text/latex": [
       "$\\displaystyle 32768$"
      ],
      "text/plain": [
       "<IPython.core.display.Math object>"
      ]
     },
     "metadata": {},
     "output_type": "display_data"
    },
    {
     "data": {
      "text/latex": [
       "$\\displaystyle 32768$"
      ],
      "text/plain": [
       "<IPython.core.display.Math object>"
      ]
     },
     "metadata": {},
     "output_type": "display_data"
    }
   ],
   "source": [
    "import mmh3\n",
    "val = Flajolet_Martin(hash, 'shakespeare-all.txt')\n",
    "display(Math(str(val)))\n",
    "for i in range(20):\n",
    "    val = Flajolet_Martin(mmh3.hash, 'shakespeare-all.txt', seed=i)\n",
    "    display(Math(str(val)))"
   ]
  },
  {
   "cell_type": "markdown",
   "id": "29ca94a8",
   "metadata": {},
   "source": [
    "To add another dimension of randomness, you can click the button below to get a random integer, which will be the seed for the mmh3 function. This will then run the Flajolet-Martin algorithm to output the estimate."
   ]
  },
  {
   "cell_type": "code",
   "execution_count": 42,
   "id": "68fd6f32",
   "metadata": {},
   "outputs": [
    {
     "data": {
      "application/vnd.jupyter.widget-view+json": {
       "model_id": "3be32f11744642449f05c95ce69cd6a7",
       "version_major": 2,
       "version_minor": 0
      },
      "text/plain": [
       "Button(description='Run with random hash function', layout=Layout(align_items='stretch', border='solid', displ…"
      ]
     },
     "metadata": {},
     "output_type": "display_data"
    },
    {
     "data": {
      "text/latex": [
       "$\\displaystyle 4194304$"
      ],
      "text/plain": [
       "<IPython.core.display.Math object>"
      ]
     },
     "metadata": {},
     "output_type": "display_data"
    },
    {
     "data": {
      "text/latex": [
       "$\\displaystyle 131072$"
      ],
      "text/plain": [
       "<IPython.core.display.Math object>"
      ]
     },
     "metadata": {},
     "output_type": "display_data"
    },
    {
     "data": {
      "text/latex": [
       "$\\displaystyle 32768$"
      ],
      "text/plain": [
       "<IPython.core.display.Math object>"
      ]
     },
     "metadata": {},
     "output_type": "display_data"
    }
   ],
   "source": [
    "import ipywidgets as widgets\n",
    "from IPython.display import display\n",
    "import random\n",
    "from ipywidgets import  Layout\n",
    "\n",
    "######################### Widget Layout ##########################\n",
    "inner_layout = Layout(display='flex',\n",
    "                    justify_content='center',\n",
    "                    align_items='stretch',\n",
    "                    border='solid',\n",
    "                    width='100%')\n",
    "\n",
    "########################### Functions Declarations ###########################\n",
    "def run_FM(b):\n",
    "    seed = random.randint(0, 500)\n",
    "    val = Flajolet_Martin(mmh3.hash, 'shakespeare-all.txt', seed=seed)\n",
    "    display(Math(str(val)))\n",
    "\n",
    "# Links and declares the widgets used\n",
    "def setup_widgets():\n",
    "    # Set up button\n",
    "    button = widgets.Button(description=\"Run with random hash function\", layout=inner_layout)\n",
    "    return button\n",
    "\n",
    "######################### Widget setup ###########################\n",
    "button = setup_widgets()\n",
    "display(button)\n",
    "button.on_click(run_FM)"
   ]
  },
  {
   "cell_type": "markdown",
   "id": "51c85734",
   "metadata": {},
   "source": [
    "Here is the exact answer to the input, found by using a naive counter."
   ]
  },
  {
   "cell_type": "code",
   "execution_count": 40,
   "id": "e0c7a39b",
   "metadata": {},
   "outputs": [
    {
     "data": {
      "text/latex": [
       "$\\displaystyle 68866$"
      ],
      "text/plain": [
       "<IPython.core.display.Math object>"
      ]
     },
     "metadata": {},
     "output_type": "display_data"
    }
   ],
   "source": [
    "def naive_distinct(data):\n",
    "    dictionary = {}\n",
    "    count = 0\n",
    "    with open(data,'r') as file:\n",
    "        for line in file:  \n",
    "            for word in line.split(): \n",
    "                if word not in dictionary:\n",
    "                    dictionary[word] = True\n",
    "                    count += 1\n",
    "    return count\n",
    "display(Math(str(naive_distinct('shakespeare-all.txt'))))"
   ]
  },
  {
   "cell_type": "markdown",
   "id": "68a54ecd",
   "metadata": {},
   "source": [
    "## Plotting the probability of the bins\n",
    "Below we plot the number of words we examine until we get a new \"maximum bin\". We run the Flajolet Martin algorithm 100 times with a different seed, simulating independent hash functions. Then, we plot the average count to get a new bin. We expect the plot to be close to $2^k$, where $k$ is the bin number."
   ]
  },
  {
   "cell_type": "code",
   "execution_count": 41,
   "id": "9fc4b824",
   "metadata": {},
   "outputs": [],
   "source": [
    "import matplotlib.pyplot as plt\n",
    "%matplotlib inline\n",
    "\n",
    "def count_Flajolet_Martin(h, data, **kwargs): \n",
    "    curr = 0\n",
    "    count = 0\n",
    "    dict={}\n",
    "    with open(data,'r') as file:\n",
    "        for line in file:  \n",
    "            for word in line.split(): \n",
    "                hashed = h(word, **kwargs)\n",
    "                zeros = get_trailing_zeros(hashed)\n",
    "                if zeros > curr:\n",
    "                    curr = zeros\n",
    "                    dict[zeros] = count # Store count\n",
    "                    count = 0 # Reset count\n",
    "                count += 1 # Didn't increment\n",
    "    return dict\n",
    "\n",
    "def plot_Flajolet_Martin(data, samples):\n",
    "    sum_dict = {}\n",
    "    count_dict = {} # Factor to divide by for each bin (\"frequency\")\n",
    "    for i in range(samples):\n",
    "        dict = count_Flajolet_Martin(mmh3.hash, 'shakespeare-all.txt', seed=i)\n",
    "        for key in dict:\n",
    "            if key in sum_dict:\n",
    "                count_dict[key] += 1\n",
    "                sum_dict[key] += dict[key] \n",
    "            else:\n",
    "                count_dict[key] = 1\n",
    "                sum_dict[key] = dict[key]\n",
    "    for key in sum_dict:\n",
    "        plt.plot(key, sum_dict[key]/(samples*count_dict[key]), 'o')"
   ]
  },
  {
   "cell_type": "markdown",
   "id": "acbe0c0d",
   "metadata": {},
   "source": [
    "We see that because there could be \"jumps\" between the bins we choose (the estimate can change from, say $2^{5}$ to $2^{8}$ if an input with 8 trailing zeros is found), the graph is not very precise. However, from the order of magnitude the points are increasing, we can see  the $2^k$ shape."
   ]
  },
  {
   "cell_type": "code",
   "execution_count": 47,
   "id": "ee6c26d1",
   "metadata": {},
   "outputs": [
    {
     "data": {
      "image/png": "[encoded data removed]",
      "text/plain": [
       "<Figure size 1080x720 with 1 Axes>"
      ]
     },
     "metadata": {
      "needs_background": "light"
     },
     "output_type": "display_data"
    }
   ],
   "source": [
    "plt.rcParams[\"figure.figsize\"] = (15,10)\n",
    "plt.xlabel(\"Number of input took to increment\")\n",
    "plt.ylabel(\"Current value k where estimate is 2^k\") \n",
    "plot_Flajolet_Martin('shakespeare-all.txt', 20)"
   ]
  }
 ],
 "metadata": {
  "kernelspec": {
   "display_name": "Python 3",
   "language": "python",
   "name": "python3"
  },
  "language_info": {
   "codemirror_mode": {
    "name": "ipython",
    "version": 3
   },
   "file_extension": ".py",
   "mimetype": "text/x-python",
   "name": "python",
   "nbconvert_exporter": "python",
   "pygments_lexer": "ipython3",
   "version": "3.7.4"
  }
 },
 "nbformat": 4,
 "nbformat_minor": 5
}
